{
 "cells": [
  {
   "cell_type": "code",
   "execution_count": 1,
   "metadata": {
    "collapsed": true
   },
   "outputs": [],
   "source": [
    "import pandas as pd\n",
    "import numpy as np"
   ]
  },
  {
   "cell_type": "code",
   "execution_count": 5,
   "metadata": {},
   "outputs": [],
   "source": [
    "df_train = pd.read_csv(\"D:\\\\datapool\\\\cs-training.csv\")\n",
    "\n",
    "x = df_train.drop([u'Unnamed: 0', u'SeriousDlqin2yrs'] , axis = 1)\n",
    "y_column = u'SeriousDlqin2yrs'\n",
    "y = df_train[u'SeriousDlqin2yrs']"
   ]
  },
  {
   "cell_type": "code",
   "execution_count": null,
   "metadata": {},
   "outputs": [
    {
     "name": "stdout",
     "output_type": "stream",
     "text": [
      "FY Scorecard ready!\n"
     ]
    }
   ],
   "source": [
    "%run D:\\gitstore\\fy_scorecard.py\n",
    "\n",
    "ximu = fs_scorecard(x,y,event = 1,workpath = \"./\")\n",
    "\n",
    "ximu.get_woe_iv()"
   ]
  },
  {
   "cell_type": "code",
   "execution_count": 18,
   "metadata": {},
   "outputs": [
    {
     "name": "stdout",
     "output_type": "stream",
     "text": [
      "./woe_t.xlsx  generated;\n",
      " <name>.woe_t, <name>.iv_t available\n"
     ]
    }
   ],
   "source": [
    "ximu.columns_bin_dict[\"NumberOfTime30-59DaysPastDueNotWorse\"] = [-np.inf,0,np.inf]\n",
    "ximu.columns_bin_dict[\"NumberOfTime60-89DaysPastDueNotWorse\"] = [-np.inf,0,np.inf]\n",
    "ximu.columns_bin_dict[\"NumberOfTimes90DaysLate\"] = [-np.inf,0,np.inf]\n",
    "\n",
    "ximu.get_woe_iv()"
   ]
  },
  {
   "cell_type": "code",
   "execution_count": 22,
   "metadata": {},
   "outputs": [
    {
     "data": {
      "text/plain": [
       "long"
      ]
     },
     "execution_count": 22,
     "metadata": {},
     "output_type": "execute_result"
    }
   ],
   "source": [
    "type(ximu.iv_t.columns[-1])"
   ]
  },
  {
   "cell_type": "code",
   "execution_count": null,
   "metadata": {},
   "outputs": [],
   "source": [
    "ximu.iv_t"
   ]
  }
 ],
 "metadata": {
  "kernelspec": {
   "display_name": "Python 2",
   "language": "python",
   "name": "python2"
  },
  "language_info": {
   "codemirror_mode": {
    "name": "ipython",
    "version": 2
   },
   "file_extension": ".py",
   "mimetype": "text/x-python",
   "name": "python",
   "nbconvert_exporter": "python",
   "pygments_lexer": "ipython2",
   "version": "2.7.13"
  }
 },
 "nbformat": 4,
 "nbformat_minor": 2
}
