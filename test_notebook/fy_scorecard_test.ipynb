{
 "cells": [
  {
   "cell_type": "code",
   "execution_count": 5,
   "metadata": {
    "collapsed": true
   },
   "outputs": [],
   "source": [
    "import pandas as pd\n",
    "import numpy as np"
   ]
  },
  {
   "cell_type": "code",
   "execution_count": 6,
   "metadata": {
    "collapsed": true
   },
   "outputs": [],
   "source": [
    "df_train = pd.read_csv(\"D:\\\\datapool\\\\cs-training.csv\")\n",
    "\n",
    "x = df_train.drop([u'Unnamed: 0', u'SeriousDlqin2yrs'] , axis = 1)\n",
    "y_column = u'SeriousDlqin2yrs'\n",
    "y = df_train[u'SeriousDlqin2yrs']"
   ]
  },
  {
   "cell_type": "code",
   "execution_count": 7,
   "metadata": {
    "collapsed": true
   },
   "outputs": [],
   "source": [
    "x[\"test_cat1\"] = pd.Series(np.random.randint(0,5,size=150000)).apply(lambda x:str(x)+\"_test\")\n",
    "x[\"test_cat2\"] = pd.Series(np.random.randint(0,10,size=150000)).apply(lambda x:str(x)+\"_test\")\n",
    "x[\"test_cat3\"] = pd.Series(np.random.randint(0,20,size=150000)).apply(lambda x:str(x)+\"_test\")\n",
    "x[\"test_U\"] = y\n",
    "x.loc[x[\"test_cat1\"] == \"0_test\",\"test_cat1\"] = np.nan\n",
    "x.loc[x[\"test_cat2\"] == \"0_test\",\"test_cat2\"] = np.nan\n",
    "x.loc[x[\"test_cat3\"] == \"0_test\",\"test_cat3\"] = np.nan\n",
    "\n",
    "#x[\"test_cat1\"].value_counts()\n",
    "\n",
    "#print np.random.randint.__doc__"
   ]
  },
  {
   "cell_type": "code",
   "execution_count": 14,
   "metadata": {},
   "outputs": [
    {
     "name": "stdout",
     "output_type": "stream",
     "text": [
      "FY Scorecard ready!\n",
      "test_cat3 : too many values for discrete variables.\n"
     ]
    },
    {
     "name": "stderr",
     "output_type": "stream",
     "text": [
      "<string>:84: RuntimeWarning: divide by zero encountered in log\n"
     ]
    },
    {
     "name": "stdout",
     "output_type": "stream",
     "text": [
      "./woe_t.xlsx  generated;\n",
      " <name>.woe_t, <name>.iv_t available\n"
     ]
    },
    {
     "data": {
      "text/html": [
       "<div>\n",
       "<style>\n",
       "    .dataframe thead tr:only-child th {\n",
       "        text-align: right;\n",
       "    }\n",
       "\n",
       "    .dataframe thead th {\n",
       "        text-align: left;\n",
       "    }\n",
       "\n",
       "    .dataframe tbody tr th {\n",
       "        vertical-align: top;\n",
       "    }\n",
       "</style>\n",
       "<table border=\"1\" class=\"dataframe\">\n",
       "  <thead>\n",
       "    <tr style=\"text-align: right;\">\n",
       "      <th></th>\n",
       "      <th>var_name</th>\n",
       "      <th>var_cat</th>\n",
       "      <th>cat_total_count</th>\n",
       "      <th>pos_count</th>\n",
       "      <th>neg_count</th>\n",
       "      <th>p_ni</th>\n",
       "      <th>p_y_total</th>\n",
       "      <th>p_yi</th>\n",
       "      <th>woe</th>\n",
       "      <th>iv_i</th>\n",
       "    </tr>\n",
       "  </thead>\n",
       "  <tbody>\n",
       "    <tr>\n",
       "      <th>0</th>\n",
       "      <td>RevolvingUtilizationOfUnsecuredLines</td>\n",
       "      <td>(-inf, 0.0192]</td>\n",
       "      <td>30000</td>\n",
       "      <td>582</td>\n",
       "      <td>29418</td>\n",
       "      <td>0.210168</td>\n",
       "      <td>0.06684</td>\n",
       "      <td>0.058049</td>\n",
       "      <td>-1.286617</td>\n",
       "      <td>0.195718</td>\n",
       "    </tr>\n",
       "    <tr>\n",
       "      <th>1</th>\n",
       "      <td>RevolvingUtilizationOfUnsecuredLines</td>\n",
       "      <td>(0.0192, 0.0832]</td>\n",
       "      <td>30000</td>\n",
       "      <td>497</td>\n",
       "      <td>29503</td>\n",
       "      <td>0.210775</td>\n",
       "      <td>0.06684</td>\n",
       "      <td>0.049571</td>\n",
       "      <td>-1.447382</td>\n",
       "      <td>0.233323</td>\n",
       "    </tr>\n",
       "    <tr>\n",
       "      <th>2</th>\n",
       "      <td>RevolvingUtilizationOfUnsecuredLines</td>\n",
       "      <td>(0.0832, 0.271]</td>\n",
       "      <td>30000</td>\n",
       "      <td>877</td>\n",
       "      <td>29123</td>\n",
       "      <td>0.208060</td>\n",
       "      <td>0.06684</td>\n",
       "      <td>0.087473</td>\n",
       "      <td>-0.866502</td>\n",
       "      <td>0.104489</td>\n",
       "    </tr>\n",
       "    <tr>\n",
       "      <th>3</th>\n",
       "      <td>RevolvingUtilizationOfUnsecuredLines</td>\n",
       "      <td>(0.271, 0.699]</td>\n",
       "      <td>30000</td>\n",
       "      <td>2107</td>\n",
       "      <td>27893</td>\n",
       "      <td>0.199273</td>\n",
       "      <td>0.06684</td>\n",
       "      <td>0.210154</td>\n",
       "      <td>0.053164</td>\n",
       "      <td>0.000578</td>\n",
       "    </tr>\n",
       "    <tr>\n",
       "      <th>4</th>\n",
       "      <td>RevolvingUtilizationOfUnsecuredLines</td>\n",
       "      <td>(0.699, inf]</td>\n",
       "      <td>30000</td>\n",
       "      <td>5963</td>\n",
       "      <td>24037</td>\n",
       "      <td>0.171725</td>\n",
       "      <td>0.06684</td>\n",
       "      <td>0.594754</td>\n",
       "      <td>1.242254</td>\n",
       "      <td>0.525509</td>\n",
       "    </tr>\n",
       "  </tbody>\n",
       "</table>\n",
       "</div>"
      ],
      "text/plain": [
       "                               var_name           var_cat  cat_total_count  \\\n",
       "0  RevolvingUtilizationOfUnsecuredLines    (-inf, 0.0192]            30000   \n",
       "1  RevolvingUtilizationOfUnsecuredLines  (0.0192, 0.0832]            30000   \n",
       "2  RevolvingUtilizationOfUnsecuredLines   (0.0832, 0.271]            30000   \n",
       "3  RevolvingUtilizationOfUnsecuredLines    (0.271, 0.699]            30000   \n",
       "4  RevolvingUtilizationOfUnsecuredLines      (0.699, inf]            30000   \n",
       "\n",
       "   pos_count  neg_count      p_ni  p_y_total      p_yi       woe      iv_i  \n",
       "0        582      29418  0.210168    0.06684  0.058049 -1.286617  0.195718  \n",
       "1        497      29503  0.210775    0.06684  0.049571 -1.447382  0.233323  \n",
       "2        877      29123  0.208060    0.06684  0.087473 -0.866502  0.104489  \n",
       "3       2107      27893  0.199273    0.06684  0.210154  0.053164  0.000578  \n",
       "4       5963      24037  0.171725    0.06684  0.594754  1.242254  0.525509  "
      ]
     },
     "execution_count": 14,
     "metadata": {},
     "output_type": "execute_result"
    }
   ],
   "source": [
    "%run D:\\gitstore\\fy_scorecard.py\n",
    "\n",
    "ximu = fs_scorecard(x,y,event = 1,workpath = \"./\")\n",
    "\n",
    "#ximu.get_woe_iv()\n",
    "\n",
    "ximu.columns_bin_dict[\"NumberOfTime30-59DaysPastDueNotWorse\"] = [-np.inf,0,np.inf]\n",
    "ximu.columns_bin_dict[\"NumberOfTime60-89DaysPastDueNotWorse\"] = [-np.inf,0,np.inf]\n",
    "ximu.columns_bin_dict[\"NumberOfTimes90DaysLate\"] = [-np.inf,0,np.inf]\n",
    "\n",
    "ximu.get_woe_iv()\n",
    "\n",
    "ximu.woe_t.head()"
   ]
  },
  {
   "cell_type": "code",
   "execution_count": 15,
   "metadata": {},
   "outputs": [
    {
     "name": "stdout",
     "output_type": "stream",
     "text": [
      "<name>.df_woe_replaced, <name>.df_binned available\n"
     ]
    }
   ],
   "source": [
    "ximu.get_woe_replaced_df()\n"
   ]
  },
  {
   "cell_type": "code",
   "execution_count": 22,
   "metadata": {},
   "outputs": [
    {
     "name": "stdout",
     "output_type": "stream",
     "text": [
      "Optimization terminated successfully.\n",
      "         Current function value: 0.450286\n",
      "         Iterations 6\n",
      "                           Logit Regression Results                           \n",
      "==============================================================================\n",
      "Dep. Variable:       SeriousDlqin2yrs   No. Observations:               150000\n",
      "Model:                          Logit   Df Residuals:                   149992\n",
      "Method:                           MLE   Df Model:                            7\n",
      "Date:                Wed, 06 Sep 2017   Pseudo R-squ.:                 -0.8350\n",
      "Time:                        17:57:02   Log-Likelihood:                -67543.\n",
      "converged:                       True   LL-Null:                       -36808.\n",
      "                                        LLR p-value:                     1.000\n",
      "========================================================================================================\n",
      "                                           coef    std err          z      P>|z|      [0.025      0.975]\n",
      "--------------------------------------------------------------------------------------------------------\n",
      "NumberOfOpenCreditLinesAndLoans          0.1634      0.034      4.858      0.000       0.097       0.229\n",
      "age                                      0.3091      0.013     23.087      0.000       0.283       0.335\n",
      "DebtRatio                                0.4617      0.029     15.728      0.000       0.404       0.519\n",
      "MonthlyIncome                            0.2384      0.027      8.978      0.000       0.186       0.290\n",
      "RevolvingUtilizationOfUnsecuredLines     0.5561      0.007     79.786      0.000       0.542       0.570\n",
      "NumberOfTime30-59DaysPastDueNotWorse     0.5937      0.009     62.835      0.000       0.575       0.612\n",
      "NumberOfTime60-89DaysPastDueNotWorse     0.9332      0.016     57.746      0.000       0.902       0.965\n",
      "NumberOfTimes90DaysLate                  1.5134      0.017     88.006      0.000       1.480       1.547\n",
      "========================================================================================================\n"
     ]
    }
   ],
   "source": [
    "excluded_columns = [\"test_U\",\"NumberOfDependents\",\"test_cat1\",\"test_cat2\",\"NumberRealEstateLoansOrLines\"]\n",
    "ximu.genmodel(excluded_columns)"
   ]
  },
  {
   "cell_type": "code",
   "execution_count": 17,
   "metadata": {},
   "outputs": [
    {
     "data": {
      "text/html": [
       "<div>\n",
       "<style>\n",
       "    .dataframe thead tr:only-child th {\n",
       "        text-align: right;\n",
       "    }\n",
       "\n",
       "    .dataframe thead th {\n",
       "        text-align: left;\n",
       "    }\n",
       "\n",
       "    .dataframe tbody tr th {\n",
       "        vertical-align: top;\n",
       "    }\n",
       "</style>\n",
       "<table border=\"1\" class=\"dataframe\">\n",
       "  <thead>\n",
       "    <tr style=\"text-align: right;\">\n",
       "      <th></th>\n",
       "      <th>var_name</th>\n",
       "      <th>iv</th>\n",
       "    </tr>\n",
       "  </thead>\n",
       "  <tbody>\n",
       "    <tr>\n",
       "      <th>0</th>\n",
       "      <td>DebtRatio</td>\n",
       "      <td>0.059488</td>\n",
       "    </tr>\n",
       "    <tr>\n",
       "      <th>1</th>\n",
       "      <td>MonthlyIncome</td>\n",
       "      <td>0.070233</td>\n",
       "    </tr>\n",
       "    <tr>\n",
       "      <th>2</th>\n",
       "      <td>NumberOfDependents</td>\n",
       "      <td>0.027233</td>\n",
       "    </tr>\n",
       "    <tr>\n",
       "      <th>3</th>\n",
       "      <td>NumberOfOpenCreditLinesAndLoans</td>\n",
       "      <td>0.048023</td>\n",
       "    </tr>\n",
       "    <tr>\n",
       "      <th>4</th>\n",
       "      <td>NumberOfTime30-59DaysPastDueNotWorse</td>\n",
       "      <td>0.665194</td>\n",
       "    </tr>\n",
       "    <tr>\n",
       "      <th>5</th>\n",
       "      <td>NumberOfTime60-89DaysPastDueNotWorse</td>\n",
       "      <td>0.572373</td>\n",
       "    </tr>\n",
       "    <tr>\n",
       "      <th>6</th>\n",
       "      <td>NumberOfTimes90DaysLate</td>\n",
       "      <td>0.837551</td>\n",
       "    </tr>\n",
       "    <tr>\n",
       "      <th>7</th>\n",
       "      <td>NumberRealEstateLoansOrLines</td>\n",
       "      <td>0.012091</td>\n",
       "    </tr>\n",
       "    <tr>\n",
       "      <th>8</th>\n",
       "      <td>RevolvingUtilizationOfUnsecuredLines</td>\n",
       "      <td>1.059619</td>\n",
       "    </tr>\n",
       "    <tr>\n",
       "      <th>9</th>\n",
       "      <td>age</td>\n",
       "      <td>0.250039</td>\n",
       "    </tr>\n",
       "    <tr>\n",
       "      <th>10</th>\n",
       "      <td>test_U</td>\n",
       "      <td>20.000000</td>\n",
       "    </tr>\n",
       "    <tr>\n",
       "      <th>11</th>\n",
       "      <td>test_cat1</td>\n",
       "      <td>0.000353</td>\n",
       "    </tr>\n",
       "    <tr>\n",
       "      <th>12</th>\n",
       "      <td>test_cat2</td>\n",
       "      <td>0.004176</td>\n",
       "    </tr>\n",
       "  </tbody>\n",
       "</table>\n",
       "</div>"
      ],
      "text/plain": [
       "                                var_name         iv\n",
       "0                              DebtRatio   0.059488\n",
       "1                          MonthlyIncome   0.070233\n",
       "2                     NumberOfDependents   0.027233\n",
       "3        NumberOfOpenCreditLinesAndLoans   0.048023\n",
       "4   NumberOfTime30-59DaysPastDueNotWorse   0.665194\n",
       "5   NumberOfTime60-89DaysPastDueNotWorse   0.572373\n",
       "6                NumberOfTimes90DaysLate   0.837551\n",
       "7           NumberRealEstateLoansOrLines   0.012091\n",
       "8   RevolvingUtilizationOfUnsecuredLines   1.059619\n",
       "9                                    age   0.250039\n",
       "10                                test_U  20.000000\n",
       "11                             test_cat1   0.000353\n",
       "12                             test_cat2   0.004176"
      ]
     },
     "execution_count": 17,
     "metadata": {},
     "output_type": "execute_result"
    }
   ],
   "source": [
    "ximu.iv_t"
   ]
  },
  {
   "cell_type": "code",
   "execution_count": null,
   "metadata": {
    "collapsed": true
   },
   "outputs": [],
   "source": []
  },
  {
   "cell_type": "code",
   "execution_count": null,
   "metadata": {
    "collapsed": true
   },
   "outputs": [],
   "source": []
  },
  {
   "cell_type": "code",
   "execution_count": null,
   "metadata": {
    "collapsed": true
   },
   "outputs": [],
   "source": []
  },
  {
   "cell_type": "code",
   "execution_count": 84,
   "metadata": {
    "collapsed": true
   },
   "outputs": [],
   "source": [
    "x_model = ximu.df_woe_replaced.drop([\"test_cat1\",\"test_cat2\",\"test_U\"],axis=1)\n",
    "y_model = y"
   ]
  },
  {
   "cell_type": "code",
   "execution_count": 86,
   "metadata": {},
   "outputs": [
    {
     "name": "stdout",
     "output_type": "stream",
     "text": [
      "Optimization terminated successfully.\n",
      "         Current function value: 0.449799\n",
      "         Iterations 6\n",
      "                           Logit Regression Results                           \n",
      "==============================================================================\n",
      "Dep. Variable:       SeriousDlqin2yrs   No. Observations:               150000\n",
      "Model:                          Logit   Df Residuals:                   149990\n",
      "Method:                           MLE   Df Model:                            9\n",
      "Date:                Wed, 06 Sep 2017   Pseudo R-squ.:                 -0.8330\n",
      "Time:                        14:04:17   Log-Likelihood:                -67470.\n",
      "converged:                       True   LL-Null:                       -36808.\n",
      "                                        LLR p-value:                     1.000\n",
      "========================================================================================================\n",
      "                                           coef    std err          z      P>|z|      [0.025      0.975]\n",
      "--------------------------------------------------------------------------------------------------------\n",
      "NumberOfOpenCreditLinesAndLoans          0.1308      0.034      3.857      0.000       0.064       0.197\n",
      "NumberRealEstateLoansOrLines             0.7301      0.061     12.036      0.000       0.611       0.849\n",
      "age                                      0.3076      0.014     22.276      0.000       0.281       0.335\n",
      "DebtRatio                                0.4653      0.029     15.799      0.000       0.408       0.523\n",
      "NumberOfDependents                       0.0645      0.044      1.463      0.143      -0.022       0.151\n",
      "MonthlyIncome                            0.2339      0.027      8.767      0.000       0.182       0.286\n",
      "RevolvingUtilizationOfUnsecuredLines     0.5570      0.007     79.837      0.000       0.543       0.571\n",
      "NumberOfTime30-59DaysPastDueNotWorse     0.5924      0.009     62.616      0.000       0.574       0.611\n",
      "NumberOfTime60-89DaysPastDueNotWorse     0.9325      0.016     57.712      0.000       0.901       0.964\n",
      "NumberOfTimes90DaysLate                  1.5084      0.017     87.811      0.000       1.475       1.542\n",
      "========================================================================================================\n"
     ]
    }
   ],
   "source": [
    "import statsmodels.api as sm\n",
    "\n",
    "model = sm.Logit(endog=y_model , exog=x_model)\n",
    "result = model.fit()\n",
    "print result.summary()"
   ]
  },
  {
   "cell_type": "code",
   "execution_count": 98,
   "metadata": {
    "collapsed": true
   },
   "outputs": [],
   "source": [
    "predict_true = pd.DataFrame()\n",
    "predict_true[\"true\"] = y_model\n",
    "predict_true[\"predict\"] = result.fittedvalues\n",
    "predict_true.head()\n",
    "\n",
    "import sklearn.metrics as skmetric\n",
    "\n",
    "fpr ,tpr ,thresholds = skmetric.roc_curve(predict_true[\"true\"],predict_true[\"predict\"])\n",
    "auc =  skmetric.auc(fpr, tpr)"
   ]
  },
  {
   "cell_type": "code",
   "execution_count": 99,
   "metadata": {},
   "outputs": [
    {
     "data": {
      "image/png": "[encoded data removed]",
      "text/plain": [
       "<matplotlib.figure.Figure at 0x3df460f0>"
      ]
     },
     "metadata": {},
     "output_type": "display_data"
    }
   ],
   "source": [
    "%matplotlib inline\n",
    "import matplotlib.pyplot as plt\n",
    "plt.figure()\n",
    "lw = 2\n",
    "plt.plot(fpr, tpr, color='darkorange',\n",
    "         lw=lw, label='ROC curve (area = %0.2f)' % auc)\n",
    "plt.plot([0, 1], [0, 1], color='navy', lw=lw, linestyle='--')\n",
    "plt.xlim([0.0, 1.0])\n",
    "plt.ylim([0.0, 1.05])\n",
    "plt.xlabel('False Positive Rate')\n",
    "plt.ylabel('True Positive Rate')\n",
    "plt.title('Receiver operating characteristic example')\n",
    "plt.legend(loc=\"lower right\")\n",
    "plt.show()"
   ]
  }
 ],
 "metadata": {
  "kernelspec": {
   "display_name": "Python 2",
   "language": "python",
   "name": "python2"
  },
  "language_info": {
   "codemirror_mode": {
    "name": "ipython",
    "version": 2
   },
   "file_extension": ".py",
   "mimetype": "text/x-python",
   "name": "python",
   "nbconvert_exporter": "python",
   "pygments_lexer": "ipython2",
   "version": "2.7.13"
  }
 },
 "nbformat": 4,
 "nbformat_minor": 2
}
