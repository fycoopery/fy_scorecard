{
 "cells": [
  {
   "cell_type": "code",
   "execution_count": 1,
   "metadata": {
    "collapsed": true
   },
   "outputs": [],
   "source": [
    "import pandas as pd\n",
    "import numpy as np"
   ]
  },
  {
   "cell_type": "code",
   "execution_count": 2,
   "metadata": {
    "collapsed": true
   },
   "outputs": [],
   "source": [
    "df_train = pd.read_csv(\"D:\\\\datapool\\\\cs-training.csv\")\n",
    "\n",
    "x = df_train.drop([u'Unnamed: 0', u'SeriousDlqin2yrs'] , axis = 1)\n",
    "y_column = u'SeriousDlqin2yrs'\n",
    "y = df_train[u'SeriousDlqin2yrs']"
   ]
  },
  {
   "cell_type": "code",
   "execution_count": 3,
   "metadata": {
    "collapsed": true
   },
   "outputs": [],
   "source": [
    "x[\"test_cat1\"] = pd.Series(np.random.randint(0,5,size=150000)).apply(lambda x:str(x)+\"_test\")\n",
    "x[\"test_cat2\"] = pd.Series(np.random.randint(0,10,size=150000)).apply(lambda x:str(x)+\"_test\")\n",
    "x[\"test_cat3\"] = pd.Series(np.random.randint(0,20,size=150000)).apply(lambda x:str(x)+\"_test\")\n",
    "x[\"test_U\"] = y\n",
    "x.loc[x[\"test_cat1\"] == \"0_test\",\"test_cat1\"] = np.nan\n",
    "x.loc[x[\"test_cat2\"] == \"0_test\",\"test_cat2\"] = np.nan\n",
    "x.loc[x[\"test_cat3\"] == \"0_test\",\"test_cat3\"] = np.nan\n",
    "\n",
    "#x[\"test_cat1\"].value_counts()\n",
    "\n",
    "#print np.random.randint.__doc__"
   ]
  },
  {
   "cell_type": "code",
   "execution_count": 5,
   "metadata": {},
   "outputs": [
    {
     "name": "stderr",
     "output_type": "stream",
     "text": [
      "d:\\Anaconda2\\lib\\site-packages\\statsmodels\\compat\\pandas.py:56: FutureWarning: The pandas.core.datetools module is deprecated and will be removed in a future version. Please use the pandas.tseries module instead.\n",
      "  from pandas.core import datetools\n"
     ]
    },
    {
     "name": "stdout",
     "output_type": "stream",
     "text": [
      "FY Scorecard ready!\n",
      "test_cat3 : too many values for discrete variables.\n"
     ]
    },
    {
     "name": "stderr",
     "output_type": "stream",
     "text": [
      "<string>:84: RuntimeWarning: divide by zero encountered in log\n"
     ]
    },
    {
     "name": "stdout",
     "output_type": "stream",
     "text": [
      "./woe_t.xlsx  generated;\n",
      " <name>.woe_t, <name>.iv_t available\n"
     ]
    },
    {
     "data": {
      "text/html": [
       "<div>\n",
       "<style>\n",
       "    .dataframe thead tr:only-child th {\n",
       "        text-align: right;\n",
       "    }\n",
       "\n",
       "    .dataframe thead th {\n",
       "        text-align: left;\n",
       "    }\n",
       "\n",
       "    .dataframe tbody tr th {\n",
       "        vertical-align: top;\n",
       "    }\n",
       "</style>\n",
       "<table border=\"1\" class=\"dataframe\">\n",
       "  <thead>\n",
       "    <tr style=\"text-align: right;\">\n",
       "      <th></th>\n",
       "      <th>var_name</th>\n",
       "      <th>var_cat</th>\n",
       "      <th>cat_total_count</th>\n",
       "      <th>pos_count</th>\n",
       "      <th>neg_count</th>\n",
       "      <th>p_ni</th>\n",
       "      <th>p_y_total</th>\n",
       "      <th>p_yi</th>\n",
       "      <th>woe</th>\n",
       "      <th>iv_i</th>\n",
       "    </tr>\n",
       "  </thead>\n",
       "  <tbody>\n",
       "    <tr>\n",
       "      <th>0</th>\n",
       "      <td>RevolvingUtilizationOfUnsecuredLines</td>\n",
       "      <td>(-inf, 0.0192]</td>\n",
       "      <td>30000</td>\n",
       "      <td>582</td>\n",
       "      <td>29418</td>\n",
       "      <td>0.210168</td>\n",
       "      <td>0.06684</td>\n",
       "      <td>0.058049</td>\n",
       "      <td>-1.286617</td>\n",
       "      <td>0.195718</td>\n",
       "    </tr>\n",
       "    <tr>\n",
       "      <th>1</th>\n",
       "      <td>RevolvingUtilizationOfUnsecuredLines</td>\n",
       "      <td>(0.0192, 0.0832]</td>\n",
       "      <td>30000</td>\n",
       "      <td>497</td>\n",
       "      <td>29503</td>\n",
       "      <td>0.210775</td>\n",
       "      <td>0.06684</td>\n",
       "      <td>0.049571</td>\n",
       "      <td>-1.447382</td>\n",
       "      <td>0.233323</td>\n",
       "    </tr>\n",
       "    <tr>\n",
       "      <th>2</th>\n",
       "      <td>RevolvingUtilizationOfUnsecuredLines</td>\n",
       "      <td>(0.0832, 0.271]</td>\n",
       "      <td>30000</td>\n",
       "      <td>877</td>\n",
       "      <td>29123</td>\n",
       "      <td>0.208060</td>\n",
       "      <td>0.06684</td>\n",
       "      <td>0.087473</td>\n",
       "      <td>-0.866502</td>\n",
       "      <td>0.104489</td>\n",
       "    </tr>\n",
       "    <tr>\n",
       "      <th>3</th>\n",
       "      <td>RevolvingUtilizationOfUnsecuredLines</td>\n",
       "      <td>(0.271, 0.699]</td>\n",
       "      <td>30000</td>\n",
       "      <td>2107</td>\n",
       "      <td>27893</td>\n",
       "      <td>0.199273</td>\n",
       "      <td>0.06684</td>\n",
       "      <td>0.210154</td>\n",
       "      <td>0.053164</td>\n",
       "      <td>0.000578</td>\n",
       "    </tr>\n",
       "    <tr>\n",
       "      <th>4</th>\n",
       "      <td>RevolvingUtilizationOfUnsecuredLines</td>\n",
       "      <td>(0.699, inf]</td>\n",
       "      <td>30000</td>\n",
       "      <td>5963</td>\n",
       "      <td>24037</td>\n",
       "      <td>0.171725</td>\n",
       "      <td>0.06684</td>\n",
       "      <td>0.594754</td>\n",
       "      <td>1.242254</td>\n",
       "      <td>0.525509</td>\n",
       "    </tr>\n",
       "  </tbody>\n",
       "</table>\n",
       "</div>"
      ],
      "text/plain": [
       "                               var_name           var_cat  cat_total_count  \\\n",
       "0  RevolvingUtilizationOfUnsecuredLines    (-inf, 0.0192]            30000   \n",
       "1  RevolvingUtilizationOfUnsecuredLines  (0.0192, 0.0832]            30000   \n",
       "2  RevolvingUtilizationOfUnsecuredLines   (0.0832, 0.271]            30000   \n",
       "3  RevolvingUtilizationOfUnsecuredLines    (0.271, 0.699]            30000   \n",
       "4  RevolvingUtilizationOfUnsecuredLines      (0.699, inf]            30000   \n",
       "\n",
       "   pos_count  neg_count      p_ni  p_y_total      p_yi       woe      iv_i  \n",
       "0        582      29418  0.210168    0.06684  0.058049 -1.286617  0.195718  \n",
       "1        497      29503  0.210775    0.06684  0.049571 -1.447382  0.233323  \n",
       "2        877      29123  0.208060    0.06684  0.087473 -0.866502  0.104489  \n",
       "3       2107      27893  0.199273    0.06684  0.210154  0.053164  0.000578  \n",
       "4       5963      24037  0.171725    0.06684  0.594754  1.242254  0.525509  "
      ]
     },
     "execution_count": 5,
     "metadata": {},
     "output_type": "execute_result"
    }
   ],
   "source": [
    "%run D:\\gitstore\\fy_scorecard.py\n",
    "\n",
    "ximu = fs_scorecard(x,y,event = 1,workpath = \"./\")\n",
    "\n",
    "#ximu.get_woe_iv()\n",
    "\n",
    "ximu.columns_bin_dict[\"NumberOfTime30-59DaysPastDueNotWorse\"] = [-np.inf,0,np.inf]\n",
    "ximu.columns_bin_dict[\"NumberOfTime60-89DaysPastDueNotWorse\"] = [-np.inf,0,np.inf]\n",
    "ximu.columns_bin_dict[\"NumberOfTimes90DaysLate\"] = [-np.inf,0,np.inf]\n",
    "\n",
    "ximu.get_woe_iv()\n",
    "\n",
    "ximu.woe_t.head()"
   ]
  },
  {
   "cell_type": "code",
   "execution_count": 6,
   "metadata": {},
   "outputs": [
    {
     "name": "stdout",
     "output_type": "stream",
     "text": [
      "<name>.df_woe_replaced, <name>.df_binned available\n"
     ]
    }
   ],
   "source": [
    "ximu.get_woe_replaced_df()\n"
   ]
  },
  {
   "cell_type": "code",
   "execution_count": 7,
   "metadata": {
    "scrolled": false
   },
   "outputs": [
    {
     "name": "stdout",
     "output_type": "stream",
     "text": [
      "Optimization terminated successfully.\n",
      "         Current function value: 0.450286\n",
      "         Iterations 6\n",
      "                           Logit Regression Results                           \n",
      "==============================================================================\n",
      "Dep. Variable:       SeriousDlqin2yrs   No. Observations:               150000\n",
      "Model:                          Logit   Df Residuals:                   149992\n",
      "Method:                           MLE   Df Model:                            7\n",
      "Date:                Mon, 18 Sep 2017   Pseudo R-squ.:                 -0.8350\n",
      "Time:                        09:51:20   Log-Likelihood:                -67543.\n",
      "converged:                       True   LL-Null:                       -36808.\n",
      "                                        LLR p-value:                     1.000\n",
      "========================================================================================================\n",
      "                                           coef    std err          z      P>|z|      [0.025      0.975]\n",
      "--------------------------------------------------------------------------------------------------------\n",
      "DebtRatio                                0.4617      0.029     15.728      0.000       0.404       0.519\n",
      "MonthlyIncome                            0.2384      0.027      8.978      0.000       0.186       0.290\n",
      "NumberOfOpenCreditLinesAndLoans          0.1634      0.034      4.858      0.000       0.097       0.229\n",
      "NumberOfTime30-59DaysPastDueNotWorse     0.5937      0.009     62.835      0.000       0.575       0.612\n",
      "NumberOfTime60-89DaysPastDueNotWorse     0.9332      0.016     57.746      0.000       0.902       0.965\n",
      "NumberOfTimes90DaysLate                  1.5134      0.017     88.006      0.000       1.480       1.547\n",
      "RevolvingUtilizationOfUnsecuredLines     0.5561      0.007     79.786      0.000       0.542       0.570\n",
      "age                                      0.3091      0.013     23.087      0.000       0.283       0.335\n",
      "========================================================================================================\n"
     ]
    }
   ],
   "source": [
    "excluded_columns = [\"test_U\",\"NumberOfDependents\",\"test_cat1\",\"test_cat2\",\"NumberRealEstateLoansOrLines\"]\n",
    "ximu.genmodel(excluded_columns = excluded_columns)"
   ]
  },
  {
   "cell_type": "code",
   "execution_count": 22,
   "metadata": {},
   "outputs": [
    {
     "data": {
      "text/plain": [
       "['DebtRatio',\n",
       " 'MonthlyIncome',\n",
       " 'NumberOfOpenCreditLinesAndLoans',\n",
       " 'NumberOfTime30-59DaysPastDueNotWorse',\n",
       " 'NumberOfTime60-89DaysPastDueNotWorse',\n",
       " 'NumberOfTimes90DaysLate',\n",
       " 'RevolvingUtilizationOfUnsecuredLines',\n",
       " 'age']"
      ]
     },
     "execution_count": 22,
     "metadata": {},
     "output_type": "execute_result"
    }
   ],
   "source": [
    "ximu.model.exog_names"
   ]
  },
  {
   "cell_type": "code",
   "execution_count": 16,
   "metadata": {},
   "outputs": [
    {
     "data": {
      "text/html": [
       "<div>\n",
       "<style>\n",
       "    .dataframe thead tr:only-child th {\n",
       "        text-align: right;\n",
       "    }\n",
       "\n",
       "    .dataframe thead th {\n",
       "        text-align: left;\n",
       "    }\n",
       "\n",
       "    .dataframe tbody tr th {\n",
       "        vertical-align: top;\n",
       "    }\n",
       "</style>\n",
       "<table border=\"1\" class=\"dataframe\">\n",
       "  <thead>\n",
       "    <tr style=\"text-align: right;\">\n",
       "      <th></th>\n",
       "      <th>var_name</th>\n",
       "      <th>var_cat</th>\n",
       "      <th>cat_total_count</th>\n",
       "      <th>pos_count</th>\n",
       "      <th>neg_count</th>\n",
       "      <th>p_ni</th>\n",
       "      <th>p_y_total</th>\n",
       "      <th>p_yi</th>\n",
       "      <th>woe</th>\n",
       "      <th>iv_i</th>\n",
       "      <th>params</th>\n",
       "      <th>score</th>\n",
       "    </tr>\n",
       "  </thead>\n",
       "  <tbody>\n",
       "    <tr>\n",
       "      <th>0</th>\n",
       "      <td>RevolvingUtilizationOfUnsecuredLines</td>\n",
       "      <td>(-inf, 0.0192]</td>\n",
       "      <td>30000</td>\n",
       "      <td>582</td>\n",
       "      <td>29418</td>\n",
       "      <td>0.210168</td>\n",
       "      <td>0.06684</td>\n",
       "      <td>0.058049</td>\n",
       "      <td>-1.286617</td>\n",
       "      <td>0.195718</td>\n",
       "      <td>0.556074</td>\n",
       "      <td>20.643647</td>\n",
       "    </tr>\n",
       "    <tr>\n",
       "      <th>1</th>\n",
       "      <td>RevolvingUtilizationOfUnsecuredLines</td>\n",
       "      <td>(0.0192, 0.0832]</td>\n",
       "      <td>30000</td>\n",
       "      <td>497</td>\n",
       "      <td>29503</td>\n",
       "      <td>0.210775</td>\n",
       "      <td>0.06684</td>\n",
       "      <td>0.049571</td>\n",
       "      <td>-1.447382</td>\n",
       "      <td>0.233323</td>\n",
       "      <td>0.556074</td>\n",
       "      <td>23.223118</td>\n",
       "    </tr>\n",
       "    <tr>\n",
       "      <th>2</th>\n",
       "      <td>RevolvingUtilizationOfUnsecuredLines</td>\n",
       "      <td>(0.0832, 0.271]</td>\n",
       "      <td>30000</td>\n",
       "      <td>877</td>\n",
       "      <td>29123</td>\n",
       "      <td>0.208060</td>\n",
       "      <td>0.06684</td>\n",
       "      <td>0.087473</td>\n",
       "      <td>-0.866502</td>\n",
       "      <td>0.104489</td>\n",
       "      <td>0.556074</td>\n",
       "      <td>13.902940</td>\n",
       "    </tr>\n",
       "    <tr>\n",
       "      <th>3</th>\n",
       "      <td>RevolvingUtilizationOfUnsecuredLines</td>\n",
       "      <td>(0.271, 0.699]</td>\n",
       "      <td>30000</td>\n",
       "      <td>2107</td>\n",
       "      <td>27893</td>\n",
       "      <td>0.199273</td>\n",
       "      <td>0.06684</td>\n",
       "      <td>0.210154</td>\n",
       "      <td>0.053164</td>\n",
       "      <td>0.000578</td>\n",
       "      <td>0.556074</td>\n",
       "      <td>-0.853017</td>\n",
       "    </tr>\n",
       "    <tr>\n",
       "      <th>4</th>\n",
       "      <td>RevolvingUtilizationOfUnsecuredLines</td>\n",
       "      <td>(0.699, inf]</td>\n",
       "      <td>30000</td>\n",
       "      <td>5963</td>\n",
       "      <td>24037</td>\n",
       "      <td>0.171725</td>\n",
       "      <td>0.06684</td>\n",
       "      <td>0.594754</td>\n",
       "      <td>1.242254</td>\n",
       "      <td>0.525509</td>\n",
       "      <td>0.556074</td>\n",
       "      <td>-19.931860</td>\n",
       "    </tr>\n",
       "  </tbody>\n",
       "</table>\n",
       "</div>"
      ],
      "text/plain": [
       "                               var_name           var_cat  cat_total_count  \\\n",
       "0  RevolvingUtilizationOfUnsecuredLines    (-inf, 0.0192]            30000   \n",
       "1  RevolvingUtilizationOfUnsecuredLines  (0.0192, 0.0832]            30000   \n",
       "2  RevolvingUtilizationOfUnsecuredLines   (0.0832, 0.271]            30000   \n",
       "3  RevolvingUtilizationOfUnsecuredLines    (0.271, 0.699]            30000   \n",
       "4  RevolvingUtilizationOfUnsecuredLines      (0.699, inf]            30000   \n",
       "\n",
       "   pos_count  neg_count      p_ni  p_y_total      p_yi       woe      iv_i  \\\n",
       "0        582      29418  0.210168    0.06684  0.058049 -1.286617  0.195718   \n",
       "1        497      29503  0.210775    0.06684  0.049571 -1.447382  0.233323   \n",
       "2        877      29123  0.208060    0.06684  0.087473 -0.866502  0.104489   \n",
       "3       2107      27893  0.199273    0.06684  0.210154  0.053164  0.000578   \n",
       "4       5963      24037  0.171725    0.06684  0.594754  1.242254  0.525509   \n",
       "\n",
       "     params      score  \n",
       "0  0.556074  20.643647  \n",
       "1  0.556074  23.223118  \n",
       "2  0.556074  13.902940  \n",
       "3  0.556074  -0.853017  \n",
       "4  0.556074 -19.931860  "
      ]
     },
     "execution_count": 16,
     "metadata": {},
     "output_type": "execute_result"
    }
   ],
   "source": [
    "woe_t2.head()"
   ]
  },
  {
   "cell_type": "code",
   "execution_count": 8,
   "metadata": {},
   "outputs": [
    {
     "name": "stdout",
     "output_type": "stream",
     "text": [
      "base_odds:  0.0716275879806\n",
      "reverse_base_odds:  13.961101137\n",
      "base_rt:  20\n",
      "base_score:  600\n",
      "p:  28.8539008178\n",
      "q:  523.933183423\n"
     ]
    }
   ],
   "source": [
    "base_score = 600\n",
    "base_rt = 20\n",
    "\n",
    "y_event = ximu.y_event\n",
    "base_odds = (y_event.sum()+0.0)/(y_event.count()-y_event.sum())\n",
    "reverse_base_odds = 1/base_odds\n",
    "\n",
    "p = base_rt/np.log(2)\n",
    "q = base_score - base_rt*np.log(reverse_base_odds)/np.log(2)\n",
    "\n",
    "print \"base_odds: \",base_odds\n",
    "print \"reverse_base_odds: \",reverse_base_odds\n",
    "print \"base_rt: \",base_rt\n",
    "print \"base_score: \",base_score\n",
    "print \"p: \",p\n",
    "print \"q: \",q"
   ]
  },
  {
   "cell_type": "code",
   "execution_count": 25,
   "metadata": {
    "scrolled": false
   },
   "outputs": [
    {
     "name": "stdout",
     "output_type": "stream",
     "text": [
      "DebtRatio\n",
      "MonthlyIncome\n",
      "NumberOfOpenCreditLinesAndLoans\n",
      "NumberOfTime30-59DaysPastDueNotWorse\n",
      "NumberOfTime60-89DaysPastDueNotWorse\n",
      "NumberOfTimes90DaysLate\n",
      "RevolvingUtilizationOfUnsecuredLines\n",
      "age\n",
      "count    150000.000000\n",
      "mean        628.346269\n",
      "std          48.764557\n",
      "min         387.425550\n",
      "25%         616.710034\n",
      "50%         644.505749\n",
      "75%         657.866426\n",
      "max         672.899208\n",
      "Name: final_score, dtype: float64\n"
     ]
    },
    {
     "data": {
      "text/html": [
       "<div>\n",
       "<style>\n",
       "    .dataframe thead tr:only-child th {\n",
       "        text-align: right;\n",
       "    }\n",
       "\n",
       "    .dataframe thead th {\n",
       "        text-align: left;\n",
       "    }\n",
       "\n",
       "    .dataframe tbody tr th {\n",
       "        vertical-align: top;\n",
       "    }\n",
       "</style>\n",
       "<table border=\"1\" class=\"dataframe\">\n",
       "  <thead>\n",
       "    <tr style=\"text-align: right;\">\n",
       "      <th></th>\n",
       "      <th>DebtRatio</th>\n",
       "      <th>MonthlyIncome</th>\n",
       "      <th>NumberOfOpenCreditLinesAndLoans</th>\n",
       "      <th>NumberOfTime30-59DaysPastDueNotWorse</th>\n",
       "      <th>NumberOfTime60-89DaysPastDueNotWorse</th>\n",
       "      <th>NumberOfTimes90DaysLate</th>\n",
       "      <th>RevolvingUtilizationOfUnsecuredLines</th>\n",
       "      <th>age</th>\n",
       "      <th>final_score</th>\n",
       "    </tr>\n",
       "  </thead>\n",
       "  <tbody>\n",
       "    <tr>\n",
       "      <th>0</th>\n",
       "      <td>-5.666137</td>\n",
       "      <td>2.872727</td>\n",
       "      <td>0.012023</td>\n",
       "      <td>-22.244111</td>\n",
       "      <td>7.760784</td>\n",
       "      <td>17.018069</td>\n",
       "      <td>-19.931860</td>\n",
       "      <td>-2.202335</td>\n",
       "      <td>577.619159</td>\n",
       "    </tr>\n",
       "    <tr>\n",
       "      <th>1</th>\n",
       "      <td>1.301003</td>\n",
       "      <td>-2.283734</td>\n",
       "      <td>-1.645793</td>\n",
       "      <td>9.280536</td>\n",
       "      <td>7.760784</td>\n",
       "      <td>17.018069</td>\n",
       "      <td>-19.931860</td>\n",
       "      <td>-2.202335</td>\n",
       "      <td>609.296671</td>\n",
       "    </tr>\n",
       "    <tr>\n",
       "      <th>2</th>\n",
       "      <td>1.301003</td>\n",
       "      <td>-1.872038</td>\n",
       "      <td>-1.645793</td>\n",
       "      <td>-22.244111</td>\n",
       "      <td>7.760784</td>\n",
       "      <td>-100.378763</td>\n",
       "      <td>-0.853017</td>\n",
       "      <td>-4.429185</td>\n",
       "      <td>477.638880</td>\n",
       "    </tr>\n",
       "    <tr>\n",
       "      <th>3</th>\n",
       "      <td>1.301003</td>\n",
       "      <td>-1.872038</td>\n",
       "      <td>0.605807</td>\n",
       "      <td>9.280536</td>\n",
       "      <td>7.760784</td>\n",
       "      <td>17.018069</td>\n",
       "      <td>13.902940</td>\n",
       "      <td>-4.429185</td>\n",
       "      <td>643.567916</td>\n",
       "    </tr>\n",
       "    <tr>\n",
       "      <th>4</th>\n",
       "      <td>1.301003</td>\n",
       "      <td>2.872727</td>\n",
       "      <td>1.044740</td>\n",
       "      <td>-22.244111</td>\n",
       "      <td>7.760784</td>\n",
       "      <td>17.018069</td>\n",
       "      <td>-19.931860</td>\n",
       "      <td>-0.648725</td>\n",
       "      <td>587.172627</td>\n",
       "    </tr>\n",
       "  </tbody>\n",
       "</table>\n",
       "</div>"
      ],
      "text/plain": [
       "   DebtRatio  MonthlyIncome  NumberOfOpenCreditLinesAndLoans  \\\n",
       "0  -5.666137       2.872727                         0.012023   \n",
       "1   1.301003      -2.283734                        -1.645793   \n",
       "2   1.301003      -1.872038                        -1.645793   \n",
       "3   1.301003      -1.872038                         0.605807   \n",
       "4   1.301003       2.872727                         1.044740   \n",
       "\n",
       "   NumberOfTime30-59DaysPastDueNotWorse  NumberOfTime60-89DaysPastDueNotWorse  \\\n",
       "0                            -22.244111                              7.760784   \n",
       "1                              9.280536                              7.760784   \n",
       "2                            -22.244111                              7.760784   \n",
       "3                              9.280536                              7.760784   \n",
       "4                            -22.244111                              7.760784   \n",
       "\n",
       "   NumberOfTimes90DaysLate  RevolvingUtilizationOfUnsecuredLines       age  \\\n",
       "0                17.018069                            -19.931860 -2.202335   \n",
       "1                17.018069                            -19.931860 -2.202335   \n",
       "2              -100.378763                             -0.853017 -4.429185   \n",
       "3                17.018069                             13.902940 -4.429185   \n",
       "4                17.018069                            -19.931860 -0.648725   \n",
       "\n",
       "   final_score  \n",
       "0   577.619159  \n",
       "1   609.296671  \n",
       "2   477.638880  \n",
       "3   643.567916  \n",
       "4   587.172627  "
      ]
     },
     "execution_count": 25,
     "metadata": {},
     "output_type": "execute_result"
    }
   ],
   "source": [
    "#生成df_scored\n",
    "\n",
    "params = ximu.model_result.params\n",
    "df_params = params.reset_index().rename(columns={\"index\":\"var_name\",0:\"params\"})\n",
    "\n",
    "woe_t2 = ximu.woe_t.merge(df_params,on=\"var_name\",how=\"left\")\n",
    "woe_t2[\"score\"] = - woe_t2[\"params\"] * woe_t2[\"woe\"]*p\n",
    "\n",
    "#woe_t2 为得分概览\n",
    "#woe_t = ximu.woe_t\n",
    "df_scored = pd.DataFrame()\n",
    "\n",
    "\n",
    "for i in ximu.model.exog_names:\n",
    "    print i \n",
    "    df_score_value = woe_t2[woe_t2[\"var_name\"]==i][[\"var_cat\",\"score\"]]\n",
    "    df_scored[i] = ximu.df_binned.merge(df_score_value,how=\"left\",left_on=i,right_on=\"var_cat\")[\"score\"]\n",
    "    \n",
    "df_scored.head()\n",
    "df_scored[\"final_score\"] = df_scored.sum(axis = 1)+600\n",
    "print df_scored[\"final_score\"].describe()\n",
    "df_scored.head()"
   ]
  },
  {
   "cell_type": "code",
   "execution_count": null,
   "metadata": {
    "collapsed": true
   },
   "outputs": [],
   "source": []
  },
  {
   "cell_type": "code",
   "execution_count": 28,
   "metadata": {
    "collapsed": true
   },
   "outputs": [],
   "source": [
    "\n",
    "predict_true = pd.DataFrame()\n",
    "predict_true[\"true\"] = ximu.y_event\n",
    "predict_true[\"predict\"] = ximu.model_result.fittedvalues\n",
    "#predict_true[\"predict\"] = df_scored[\"final_score\"]\n",
    "predict_true.head()\n",
    "\n",
    "\n",
    "import sklearn.metrics as skmetric\n",
    "\n",
    "fpr ,tpr ,thresholds = skmetric.roc_curve(predict_true[\"true\"],predict_true[\"predict\"])\n",
    "auc =  skmetric.auc(fpr, tpr)"
   ]
  },
  {
   "cell_type": "code",
   "execution_count": 49,
   "metadata": {},
   "outputs": [
    {
     "data": {
      "text/html": [
       "<div>\n",
       "<style>\n",
       "    .dataframe thead tr:only-child th {\n",
       "        text-align: right;\n",
       "    }\n",
       "\n",
       "    .dataframe thead th {\n",
       "        text-align: left;\n",
       "    }\n",
       "\n",
       "    .dataframe tbody tr th {\n",
       "        vertical-align: top;\n",
       "    }\n",
       "</style>\n",
       "<table border=\"1\" class=\"dataframe\">\n",
       "  <thead>\n",
       "    <tr style=\"text-align: right;\">\n",
       "      <th></th>\n",
       "      <th>sum</th>\n",
       "      <th>count</th>\n",
       "      <th>pos_rt</th>\n",
       "    </tr>\n",
       "    <tr>\n",
       "      <th>score_rank</th>\n",
       "      <th></th>\n",
       "      <th></th>\n",
       "      <th></th>\n",
       "    </tr>\n",
       "  </thead>\n",
       "  <tbody>\n",
       "    <tr>\n",
       "      <th>1.0</th>\n",
       "      <td>82</td>\n",
       "      <td>14874</td>\n",
       "      <td>0.005513</td>\n",
       "    </tr>\n",
       "    <tr>\n",
       "      <th>2.0</th>\n",
       "      <td>96</td>\n",
       "      <td>15143</td>\n",
       "      <td>0.006340</td>\n",
       "    </tr>\n",
       "    <tr>\n",
       "      <th>3.0</th>\n",
       "      <td>150</td>\n",
       "      <td>14988</td>\n",
       "      <td>0.010008</td>\n",
       "    </tr>\n",
       "    <tr>\n",
       "      <th>4.0</th>\n",
       "      <td>188</td>\n",
       "      <td>14993</td>\n",
       "      <td>0.012539</td>\n",
       "    </tr>\n",
       "    <tr>\n",
       "      <th>5.0</th>\n",
       "      <td>282</td>\n",
       "      <td>15012</td>\n",
       "      <td>0.018785</td>\n",
       "    </tr>\n",
       "    <tr>\n",
       "      <th>6.0</th>\n",
       "      <td>455</td>\n",
       "      <td>14998</td>\n",
       "      <td>0.030337</td>\n",
       "    </tr>\n",
       "    <tr>\n",
       "      <th>7.0</th>\n",
       "      <td>643</td>\n",
       "      <td>14997</td>\n",
       "      <td>0.042875</td>\n",
       "    </tr>\n",
       "    <tr>\n",
       "      <th>8.0</th>\n",
       "      <td>1075</td>\n",
       "      <td>14990</td>\n",
       "      <td>0.071714</td>\n",
       "    </tr>\n",
       "    <tr>\n",
       "      <th>9.0</th>\n",
       "      <td>1767</td>\n",
       "      <td>15012</td>\n",
       "      <td>0.117706</td>\n",
       "    </tr>\n",
       "    <tr>\n",
       "      <th>10.0</th>\n",
       "      <td>5288</td>\n",
       "      <td>14993</td>\n",
       "      <td>0.352698</td>\n",
       "    </tr>\n",
       "  </tbody>\n",
       "</table>\n",
       "</div>"
      ],
      "text/plain": [
       "             sum  count    pos_rt\n",
       "score_rank                       \n",
       "1.0           82  14874  0.005513\n",
       "2.0           96  15143  0.006340\n",
       "3.0          150  14988  0.010008\n",
       "4.0          188  14993  0.012539\n",
       "5.0          282  15012  0.018785\n",
       "6.0          455  14998  0.030337\n",
       "7.0          643  14997  0.042875\n",
       "8.0         1075  14990  0.071714\n",
       "9.0         1767  15012  0.117706\n",
       "10.0        5288  14993  0.352698"
      ]
     },
     "execution_count": 49,
     "metadata": {},
     "output_type": "execute_result"
    }
   ],
   "source": [
    "#排序性（提升图示例）\n",
    "import math as mt\n",
    "df_scored[\"score_rank\"] = (df_scored[\"final_score\"].rank(pct=True,ascending = False)*10).apply(mt.ceil)\n",
    "df_test = pd.concat([df_scored[\"score_rank\"],y],axis = 1)\n",
    "df_test_grp = df_test.groupby(\"score_rank\")[y.name].agg([pd.Series.sum,pd.Series.count])\n",
    "df_test_grp[\"pos_rt\"] = df_test_grp[\"sum\"] / df_test_grp[\"count\"]\n",
    "df_test_grp"
   ]
  },
  {
   "cell_type": "code",
   "execution_count": 62,
   "metadata": {},
   "outputs": [
    {
     "data": {
      "text/plain": [
       "<matplotlib.legend.Legend at 0xf192b38>"
      ]
     },
     "execution_count": 62,
     "metadata": {},
     "output_type": "execute_result"
    },
    {
     "data": {
      "image/png": "[encoded data removed]",
      "text/plain": [
       "<matplotlib.figure.Figure at 0x1521d4e0>"
      ]
     },
     "metadata": {},
     "output_type": "display_data"
    }
   ],
   "source": [
    "#roc曲线\n",
    "\n",
    "%matplotlib inline\n",
    "import matplotlib.pyplot as plt\n",
    "roc_plot = plt.figure()\n",
    "lw = 2\n",
    "plt.plot(fpr, tpr, color='darkorange',\n",
    "         lw=lw, label='ROC curve')\n",
    "plt.plot([0, 1], [0, 1], color='navy', lw=lw, linestyle='--')\n",
    "plt.xlim([0.0, 1.0])\n",
    "plt.ylim([0.0, 1.05])\n",
    "plt.xlabel('False Positive Rate')\n",
    "plt.ylabel('True Positive Rate')\n",
    "plt.title('Receiver operating characteristic-(AUC = %0.2f)' % auc)\n",
    "plt.legend(loc=\"lower right\")\n",
    "#plt.show()"
   ]
  },
  {
   "cell_type": "code",
   "execution_count": 58,
   "metadata": {},
   "outputs": [
    {
     "name": "stdout",
     "output_type": "stream",
     "text": [
      "ks_value:  0.553823892591\n",
      "ks_position 5.0\n"
     ]
    },
    {
     "data": {
      "text/plain": [
       "<matplotlib.legend.Legend at 0x14ae9d30>"
      ]
     },
     "execution_count": 58,
     "metadata": {},
     "output_type": "execute_result"
    },
    {
     "data": {
      "image/png": "[encoded data removed]",
      "text/plain": [
       "<matplotlib.figure.Figure at 0x14aa3470>"
      ]
     },
     "metadata": {},
     "output_type": "display_data"
    }
   ],
   "source": [
    "#KS曲线\n",
    "\n",
    "event_total = y.sum()\n",
    "non_event_total = y.count() - y.sum()\n",
    "\n",
    "predict_true[\"score_rk\"] = predict_true[\"predict\"].rank(ascending = False\n",
    "                                                        ,method = \"first\")\n",
    "group_size = round(predict_true.shape[0]/20)\n",
    "predict_true[\"rk_group\"] = (predict_true[\"score_rk\"]/group_size).apply(np.ceil)\n",
    "\n",
    "test_grp = predict_true.groupby(\"rk_group\")[\"true\"].agg([np.sum,pd.Series.count])\\\n",
    "            .rename(columns = {\"sum\":\"event_cnt\",\"count\":\"total_cnt\"})\\\n",
    "            .reset_index()\n",
    "test_grp[\"non_event_cnt\"] = test_grp[\"total_cnt\"] - test_grp[\"event_cnt\"]\n",
    "test_grp[\"event_cnt_cum\"] = test_grp[\"event_cnt\"].cumsum()\n",
    "test_grp[\"non_event_cnt_cum\"] = test_grp[\"non_event_cnt\"].cumsum()\n",
    "\n",
    "test_grp[\"event_rt\"] = test_grp[\"event_cnt_cum\"] / event_total\n",
    "test_grp[\"none_event_rt\"] = test_grp[\"non_event_cnt_cum\"] / non_event_total\n",
    "\n",
    "test_grp[\"ks_value\"] = test_grp[\"event_rt\"] - test_grp[\"none_event_rt\"]\n",
    "\n",
    "ks_value = test_grp[\"ks_value\"].max()\n",
    "ks_position = test_grp[test_grp[\"ks_value\"]==ks_value][\"rk_group\"].iloc[0]\n",
    "print \"ks_value: \",ks_value\n",
    "print \"ks_position\",ks_position\n",
    "\n",
    "test_grp_2 = pd.DataFrame({\n",
    "    \"rk_group\":[0],\n",
    "    \"event_rt\":[0],\n",
    "    \"none_event_rt\":[0]}\n",
    ").append(test_grp)\n",
    "\n",
    "plt.plot(test_grp_2[\"rk_group\"],test_grp_2[\"event_rt\"],color = \"darkorange\")\n",
    "plt.plot(test_grp_2[\"rk_group\"],test_grp_2[\"none_event_rt\"],color = \"navy\")\n",
    "plt.plot([ks_position,ks_position],[0,1],color=\"red\",linestyle = \"--\",\n",
    "        label = \"KS_position\")\n",
    "plt.xlim([0,20])\n",
    "plt.ylim([0,1.05])\n",
    "plt.xlabel(\"grp\")\n",
    "plt.ylabel(\"rt\")\n",
    "plt.title(\"KS Curve - ks value %0.2f\" % ks_value)\n",
    "plt.legend(loc = \"lower right\")"
   ]
  },
  {
   "cell_type": "code",
   "execution_count": null,
   "metadata": {
    "collapsed": true
   },
   "outputs": [],
   "source": []
  }
 ],
 "metadata": {
  "kernelspec": {
   "display_name": "Python 2",
   "language": "python",
   "name": "python2"
  },
  "language_info": {
   "codemirror_mode": {
    "name": "ipython",
    "version": 2
   },
   "file_extension": ".py",
   "mimetype": "text/x-python",
   "name": "python",
   "nbconvert_exporter": "python",
   "pygments_lexer": "ipython2",
   "version": "2.7.13"
  }
 },
 "nbformat": 4,
 "nbformat_minor": 2
}
